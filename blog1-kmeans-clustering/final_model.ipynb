{
 "cells": [
  {
   "cell_type": "code",
   "execution_count": 1,
   "metadata": {},
   "outputs": [],
   "source": [
    "import pandas as pd\n",
    "import numpy as np\n",
    "import matplotlib.pyplot as plt\n",
    "import seaborn as sns\n",
    "import datetime \n",
    "from dateutil.relativedelta import relativedelta\n",
    "\n",
    "%matplotlib inline \n",
    "\n",
    "pd.set_option('display.max_columns', 100)"
   ]
  },
  {
   "cell_type": "markdown",
   "metadata": {},
   "source": [
    "# Introduction\n",
    "I have recently gone back for an In-Camp Training (military service) and was catching up with a few of my army buddies. The most common topic that we were talking about was on investments. All of us are chasing the dream of creating a source of passive income, to attain financial freedom. Many of them were sharing their own investment strategies and insights to stocks that they have purchased. This was running through my mind at that point in time:\n",
    "\n",
    "**_“Out of the hundreds and thousands of stocks that are available, how can I better narrow down to a handful of stocks that suits my risk appetite and have better than average returns, to do my due diligence on?”_**\n",
    " \n",
    "I shall attempt to use K-Means clustering algorithm to answer this question. \n",
    "\n",
    "To narrow down my scope, I would be using stocks listed on NASDAQ and NYSE."
   ]
  },
  {
   "cell_type": "markdown",
   "metadata": {},
   "source": [
    "## Data Transformation"
   ]
  },
  {
   "cell_type": "code",
   "execution_count": 2,
   "metadata": {},
   "outputs": [
    {
     "name": "stderr",
     "output_type": "stream",
     "text": [
      "C:\\Users\\timothy.ong\\AppData\\Local\\Continuum\\anaconda3\\lib\\site-packages\\numpy\\lib\\arraysetops.py:522: FutureWarning: elementwise comparison failed; returning scalar instead, but in the future will perform elementwise comparison\n",
      "  mask |= (ar1 == a)\n"
     ]
    }
   ],
   "source": [
    "# 2006 - 2017 raw data is taken from Stocker python package which pulls from Quandl API\n",
    "raw_data = pd.read_csv('./agg_df2_2012_onwards.csv', index_col=0)"
   ]
  },
  {
   "cell_type": "code",
   "execution_count": 3,
   "metadata": {},
   "outputs": [
    {
     "data": {
      "text/html": [
       "<div>\n",
       "<style scoped>\n",
       "    .dataframe tbody tr th:only-of-type {\n",
       "        vertical-align: middle;\n",
       "    }\n",
       "\n",
       "    .dataframe tbody tr th {\n",
       "        vertical-align: top;\n",
       "    }\n",
       "\n",
       "    .dataframe thead th {\n",
       "        text-align: right;\n",
       "    }\n",
       "</style>\n",
       "<table border=\"1\" class=\"dataframe\">\n",
       "  <thead>\n",
       "    <tr style=\"text-align: right;\">\n",
       "      <th></th>\n",
       "      <th>ticker</th>\n",
       "      <th>date</th>\n",
       "      <th>year</th>\n",
       "      <th>open</th>\n",
       "      <th>close</th>\n",
       "    </tr>\n",
       "  </thead>\n",
       "  <tbody>\n",
       "    <tr>\n",
       "      <th>3428</th>\n",
       "      <td>MCBC</td>\n",
       "      <td>2012-01-03</td>\n",
       "      <td>2012</td>\n",
       "      <td>2.28</td>\n",
       "      <td>2.26</td>\n",
       "    </tr>\n",
       "    <tr>\n",
       "      <th>3429</th>\n",
       "      <td>MCBC</td>\n",
       "      <td>2012-01-04</td>\n",
       "      <td>2012</td>\n",
       "      <td>2.22</td>\n",
       "      <td>2.26</td>\n",
       "    </tr>\n",
       "    <tr>\n",
       "      <th>3430</th>\n",
       "      <td>MCBC</td>\n",
       "      <td>2012-01-05</td>\n",
       "      <td>2012</td>\n",
       "      <td>2.26</td>\n",
       "      <td>2.24</td>\n",
       "    </tr>\n",
       "    <tr>\n",
       "      <th>3431</th>\n",
       "      <td>MCBC</td>\n",
       "      <td>2012-01-06</td>\n",
       "      <td>2012</td>\n",
       "      <td>2.24</td>\n",
       "      <td>2.27</td>\n",
       "    </tr>\n",
       "    <tr>\n",
       "      <th>3432</th>\n",
       "      <td>MCBC</td>\n",
       "      <td>2012-01-09</td>\n",
       "      <td>2012</td>\n",
       "      <td>2.20</td>\n",
       "      <td>2.25</td>\n",
       "    </tr>\n",
       "  </tbody>\n",
       "</table>\n",
       "</div>"
      ],
      "text/plain": [
       "     ticker        date  year  open  close\n",
       "3428   MCBC  2012-01-03  2012  2.28   2.26\n",
       "3429   MCBC  2012-01-04  2012  2.22   2.26\n",
       "3430   MCBC  2012-01-05  2012  2.26   2.24\n",
       "3431   MCBC  2012-01-06  2012  2.24   2.27\n",
       "3432   MCBC  2012-01-09  2012  2.20   2.25"
      ]
     },
     "execution_count": 3,
     "metadata": {},
     "output_type": "execute_result"
    }
   ],
   "source": [
    "raw_data.head()"
   ]
  },
  {
   "cell_type": "code",
   "execution_count": 4,
   "metadata": {},
   "outputs": [],
   "source": [
    "# 2018 raw data is taken from yahoo-finance package\n",
    "df_2018 = pd.read_csv('./2018_data.csv', index_col=0)"
   ]
  },
  {
   "cell_type": "code",
   "execution_count": 5,
   "metadata": {},
   "outputs": [
    {
     "data": {
      "text/html": [
       "<div>\n",
       "<style scoped>\n",
       "    .dataframe tbody tr th:only-of-type {\n",
       "        vertical-align: middle;\n",
       "    }\n",
       "\n",
       "    .dataframe tbody tr th {\n",
       "        vertical-align: top;\n",
       "    }\n",
       "\n",
       "    .dataframe thead th {\n",
       "        text-align: right;\n",
       "    }\n",
       "</style>\n",
       "<table border=\"1\" class=\"dataframe\">\n",
       "  <thead>\n",
       "    <tr style=\"text-align: right;\">\n",
       "      <th></th>\n",
       "      <th>Open</th>\n",
       "      <th>High</th>\n",
       "      <th>Low</th>\n",
       "      <th>Close</th>\n",
       "      <th>Adj Close</th>\n",
       "      <th>Volume</th>\n",
       "      <th>date</th>\n",
       "      <th>ticker</th>\n",
       "    </tr>\n",
       "  </thead>\n",
       "  <tbody>\n",
       "    <tr>\n",
       "      <th>0</th>\n",
       "      <td>26.450001</td>\n",
       "      <td>27.10</td>\n",
       "      <td>26.34</td>\n",
       "      <td>27.030001</td>\n",
       "      <td>27.030001</td>\n",
       "      <td>275200</td>\n",
       "      <td>2018-01-03</td>\n",
       "      <td>PRO</td>\n",
       "    </tr>\n",
       "    <tr>\n",
       "      <th>0</th>\n",
       "      <td>31.160000</td>\n",
       "      <td>31.16</td>\n",
       "      <td>30.00</td>\n",
       "      <td>30.780001</td>\n",
       "      <td>30.780001</td>\n",
       "      <td>168000</td>\n",
       "      <td>2018-12-29</td>\n",
       "      <td>PRO</td>\n",
       "    </tr>\n",
       "    <tr>\n",
       "      <th>0</th>\n",
       "      <td>9.990000</td>\n",
       "      <td>10.13</td>\n",
       "      <td>9.95</td>\n",
       "      <td>10.000000</td>\n",
       "      <td>9.775415</td>\n",
       "      <td>67600</td>\n",
       "      <td>2018-01-03</td>\n",
       "      <td>MCBC</td>\n",
       "    </tr>\n",
       "  </tbody>\n",
       "</table>\n",
       "</div>"
      ],
      "text/plain": [
       "        Open   High    Low      Close  Adj Close  Volume        date ticker\n",
       "0  26.450001  27.10  26.34  27.030001  27.030001  275200  2018-01-03    PRO\n",
       "0  31.160000  31.16  30.00  30.780001  30.780001  168000  2018-12-29    PRO\n",
       "0   9.990000  10.13   9.95  10.000000   9.775415   67600  2018-01-03   MCBC"
      ]
     },
     "execution_count": 5,
     "metadata": {},
     "output_type": "execute_result"
    }
   ],
   "source": [
    "df_2018.head(3)"
   ]
  },
  {
   "cell_type": "code",
   "execution_count": 6,
   "metadata": {},
   "outputs": [],
   "source": [
    "# narrowing dataset to 2012 - 2017\n",
    "# creating new column `year`\n",
    "df_2012_2017 = (\n",
    "    raw_data\n",
    "    .pipe(lambda x: x.assign(year=pd.to_datetime(x.date).dt.year))\n",
    "    .query(\"year >= 2012\")\n",
    "    [['ticker', 'date', 'year', 'open', 'close']]\n",
    ")"
   ]
  },
  {
   "cell_type": "markdown",
   "metadata": {},
   "source": [
    "`df_2012_2017` dataset provides the data for each stock performance on a daily basis, during the stated time period. I would like to obtain the annual performance of each stock. As such, I would need to identify the first and last trading day for each year."
   ]
  },
  {
   "cell_type": "code",
   "execution_count": 7,
   "metadata": {},
   "outputs": [],
   "source": [
    "# getting the first day and last day of each year that is available in the dataset\n",
    "first_date_list = [df_2012_2017.query(\"year == '{}'\".format(2012+i)).date.min() for i in range(6)]\n",
    "last_date_list = [df_2012_2017.query(\"year == '{}'\".format(2012+i)).date.max() for i in range(6)]\n",
    "first_date_df =pd.DataFrame({\"date\": first_date_list}) \n",
    "last_date_df = pd.DataFrame({\"date\": last_date_list})"
   ]
  },
  {
   "cell_type": "code",
   "execution_count": 8,
   "metadata": {},
   "outputs": [],
   "source": [
    "# filtering for the first day data in `df_2012_2017`\n",
    "first_date_2012_2017_df = (\n",
    "    df_2012_2017\n",
    "    .merge(first_date_df, on='date', how='inner')\n",
    "    .pipe(lambda x: x.assign(year=x.date.str[:4]))\n",
    "    .rename(columns={\"open\": \"open_first_day\"})\n",
    "    .reset_index(drop=True)\n",
    "    [['ticker', 'year', 'open_first_day']]\n",
    "    .pivot_table(values='open_first_day', columns='year', index='ticker', aggfunc='sum')\n",
    "    .rename_axis(None, axis=1)\n",
    "    .reset_index()\n",
    ")\n",
    "\n",
    "# filtering last day data in `df_2012_2017` \n",
    "last_date_2012_2017_df = (\n",
    "    df_2012_2017\n",
    "    .merge(last_date_df, on='date', how='inner')\n",
    "    .pipe(lambda x: x.assign(year=x.date.str[:4]))\n",
    "    .rename(columns={\"close\": \"close_last_day\"})\n",
    "    .reset_index(drop=True)\n",
    "    [['ticker', 'year', 'close_last_day']]\n",
    "    .pivot_table(values='close_last_day', columns='year', index='ticker', aggfunc='sum')\n",
    "    .rename_axis(None, axis=1)\n",
    "    .reset_index()\n",
    ")"
   ]
  },
  {
   "cell_type": "code",
   "execution_count": 9,
   "metadata": {},
   "outputs": [],
   "source": [
    "# transforming 2018 data to be similar to the `first_date_2012_2017` and `last_date_2012_2017` dataframe\n",
    "first_date_2018_df = (\n",
    "    df_2018\n",
    "    .query(\"date == '2018-01-03'\")\n",
    "    [['ticker', 'date', 'Open']]\n",
    "    .pipe(lambda x: x.assign(year=pd.to_datetime(x.date).dt.year))\n",
    "    .rename(columns={\"Open\": \"open_first_day\"})\n",
    "    .reset_index(drop=True)\n",
    "    [['ticker', 'year', 'open_first_day']]\n",
    "    .pivot_table(values='open_first_day', columns='year', index='ticker', aggfunc='sum')\n",
    "    .rename_axis(None, axis=1)\n",
    "    .reset_index()\n",
    ")\n",
    "\n",
    "last_date_2018_df = (\n",
    "    df_2018\n",
    "    .query(\"date == '2018-12-29'\")\n",
    "    [['ticker', 'date', 'Close']]\n",
    "    .pipe(lambda x: x.assign(year=pd.to_datetime(x.date).dt.year))\n",
    "    .rename(columns={\"Close\": \"close_last_day\"})\n",
    "    .reset_index(drop=True)\n",
    "    [['ticker', 'year', 'close_last_day']]\n",
    "    .pivot_table(values='close_last_day', columns='year', index='ticker', aggfunc='sum')\n",
    "    .rename_axis(None, axis=1)\n",
    "    .reset_index()\n",
    ")"
   ]
  },
  {
   "cell_type": "code",
   "execution_count": 10,
   "metadata": {},
   "outputs": [],
   "source": [
    "# merging 2012-2017 data with 2018 data\n",
    "agg_first_date_df = (\n",
    "    first_date_2012_2017_df\n",
    "    .merge(first_date_2018_df, on='ticker', how='inner')\n",
    "    .rename(columns=({2018: \"2018\"}))\n",
    "    .melt(id_vars='ticker', value_vars=['2012', '2013', '2014', '2015', '2016', '2017', '2018'])\n",
    "    .rename(columns={\"variable\": \"year\", \"value\": \"open_first_day\"})\n",
    ")\n",
    "\n",
    "agg_last_date_df = (\n",
    "    last_date_2012_2017_df\n",
    "    .merge(last_date_2018_df, on='ticker', how='inner')\n",
    "    .rename(columns=({2018: \"2018\"}))\n",
    "    .melt(id_vars='ticker', value_vars=['2012', '2013', '2014', '2015', '2016', '2017', '2018'])\n",
    "    .rename(columns={\"variable\": \"year\", \"value\": \"close_last_day\"})\n",
    ")"
   ]
  },
  {
   "cell_type": "code",
   "execution_count": 11,
   "metadata": {},
   "outputs": [],
   "source": [
    "# calculating yearly return and then averaging them to get average yearly returns for each stock\n",
    "agg_gains_df = (\n",
    "    agg_first_date_df\n",
    "    .merge(agg_last_date_df, on=['ticker', 'year'], how='inner')\n",
    "    .pipe(lambda x: x.assign(gains_dollar=x.close_last_day-x.open_first_day))\n",
    "    .pipe(lambda x: x.assign(gains_pctg=x.gains_dollar/x.open_first_day))\n",
    "    .groupby(\"ticker\")\n",
    "    .agg({\"gains_pctg\": \"mean\"})\n",
    "    .reset_index()\n",
    "    .rename(columns={\"gains_pctg\": \"avg_yearly_returns\"})\n",
    ")\n",
    "\n",
    "# calculating overall variance using each year's return\n",
    "agg_var_df = (\n",
    "    agg_first_date_df\n",
    "    .merge(agg_last_date_df, on=['ticker', 'year'], how='inner')\n",
    "    .pipe(lambda x: x.assign(gains_dollar=x.close_last_day-x.open_first_day))\n",
    "    .pipe(lambda x: x.assign(gains_pctg=x.gains_dollar/x.open_first_day))\n",
    "    [['ticker', 'gains_pctg']]\n",
    "    .groupby(\"ticker\")\n",
    "    .agg(np.var)\n",
    "    .reset_index()\n",
    "    .rename(columns={\"gains_pctg\": \"variance\"})\n",
    ")\n",
    "\n",
    "agg_df3 = (\n",
    "    agg_gains_df\n",
    "    .merge(agg_var_df, on='ticker', how='inner')\n",
    ")"
   ]
  },
  {
   "cell_type": "code",
   "execution_count": 12,
   "metadata": {},
   "outputs": [
    {
     "data": {
      "text/html": [
       "<div>\n",
       "<style scoped>\n",
       "    .dataframe tbody tr th:only-of-type {\n",
       "        vertical-align: middle;\n",
       "    }\n",
       "\n",
       "    .dataframe tbody tr th {\n",
       "        vertical-align: top;\n",
       "    }\n",
       "\n",
       "    .dataframe thead th {\n",
       "        text-align: right;\n",
       "    }\n",
       "</style>\n",
       "<table border=\"1\" class=\"dataframe\">\n",
       "  <thead>\n",
       "    <tr style=\"text-align: right;\">\n",
       "      <th></th>\n",
       "      <th>ticker</th>\n",
       "      <th>avg_yearly_returns</th>\n",
       "      <th>variance</th>\n",
       "    </tr>\n",
       "  </thead>\n",
       "  <tbody>\n",
       "    <tr>\n",
       "      <th>0</th>\n",
       "      <td>AAN</td>\n",
       "      <td>0.080143</td>\n",
       "      <td>0.048170</td>\n",
       "    </tr>\n",
       "    <tr>\n",
       "      <th>1</th>\n",
       "      <td>AAON</td>\n",
       "      <td>0.100059</td>\n",
       "      <td>0.079516</td>\n",
       "    </tr>\n",
       "    <tr>\n",
       "      <th>2</th>\n",
       "      <td>AAP</td>\n",
       "      <td>0.165665</td>\n",
       "      <td>0.124715</td>\n",
       "    </tr>\n",
       "    <tr>\n",
       "      <th>3</th>\n",
       "      <td>AAPL</td>\n",
       "      <td>-0.005033</td>\n",
       "      <td>0.161882</td>\n",
       "    </tr>\n",
       "    <tr>\n",
       "      <th>4</th>\n",
       "      <td>ABC</td>\n",
       "      <td>0.131880</td>\n",
       "      <td>0.083416</td>\n",
       "    </tr>\n",
       "  </tbody>\n",
       "</table>\n",
       "</div>"
      ],
      "text/plain": [
       "  ticker  avg_yearly_returns  variance\n",
       "0    AAN            0.080143  0.048170\n",
       "1   AAON            0.100059  0.079516\n",
       "2    AAP            0.165665  0.124715\n",
       "3   AAPL           -0.005033  0.161882\n",
       "4    ABC            0.131880  0.083416"
      ]
     },
     "execution_count": 12,
     "metadata": {},
     "output_type": "execute_result"
    }
   ],
   "source": [
    "agg_df3.head()"
   ]
  },
  {
   "cell_type": "code",
   "execution_count": 13,
   "metadata": {},
   "outputs": [
    {
     "name": "stdout",
     "output_type": "stream",
     "text": [
      "<class 'pandas.core.frame.DataFrame'>\n",
      "Int64Index: 1300 entries, 0 to 1299\n",
      "Data columns (total 3 columns):\n",
      "ticker                1300 non-null object\n",
      "avg_yearly_returns    1300 non-null float64\n",
      "variance              1300 non-null float64\n",
      "dtypes: float64(2), object(1)\n",
      "memory usage: 40.6+ KB\n"
     ]
    }
   ],
   "source": [
    "agg_df3.info()"
   ]
  },
  {
   "cell_type": "markdown",
   "metadata": {},
   "source": [
    "1300 stocks will be used for this study."
   ]
  },
  {
   "cell_type": "markdown",
   "metadata": {},
   "source": [
    "### Modelling"
   ]
  },
  {
   "cell_type": "code",
   "execution_count": 14,
   "metadata": {},
   "outputs": [],
   "source": [
    "from sklearn.preprocessing import RobustScaler\n",
    "from sklearn.cluster import KMeans\n",
    "from sklearn import metrics"
   ]
  },
  {
   "cell_type": "code",
   "execution_count": 15,
   "metadata": {},
   "outputs": [],
   "source": [
    "def plot_cluster(df, max_loop=50):\n",
    "    \"\"\"\n",
    "    Looking at the performance of various number of clusters using K-Means.\n",
    "    Performance is evaluated by within cluster SSE and silhouette score.\n",
    "    \"\"\"\n",
    "    try:\n",
    "        df.drop('cluster', axis=1, inplace=True)\n",
    "    except:\n",
    "        next\n",
    "    X = df.iloc[:,1:]\n",
    "    \n",
    "    # robust scaling is used so that the centering and scaling statistics are therefore not influenced by a few number of very large marginal outliers as they are based on percentiles\n",
    "    rb = RobustScaler()\n",
    "    X_rb = rb.fit_transform(X)\n",
    "    \n",
    "    sse_within_cluster = {}\n",
    "    silhouette_score = {}\n",
    "    \n",
    "    for k in range(2, max_loop):\n",
    "        kmeans = KMeans(n_clusters=k,  random_state=10, n_init=10, n_jobs=-1)\n",
    "        kmeans.fit(X_rb)\n",
    "        sse_within_cluster[k] = kmeans.inertia_\n",
    "        silhouette_score[k] = metrics.silhouette_score(X_rb, kmeans.labels_, random_state=10)\n",
    "\n",
    "    _ = plt.figure(figsize=(10,6))\n",
    "    ax1 = plt.subplot(211)\n",
    "    _ = plt.plot(list(sse_within_cluster.keys()), list(sse_within_cluster.values()))\n",
    "    _ = plt.xlabel(\"Number of Clusters\")\n",
    "    _ = plt.ylabel(\"SSE Within Cluster\")\n",
    "    _ = plt.title(\"Within Cluster SSE After K-Means Clustering\")\n",
    "    _ = plt.xticks([i for i in range(2, max_loop)], rotation=75)\n",
    "    \n",
    "    ax2 = plt.subplot(212)\n",
    "    _ = plt.plot(list(silhouette_score.keys()), list(silhouette_score.values()))\n",
    "    _ = plt.xlabel(\"Number of Clusters\")\n",
    "    _ = plt.ylabel(\"Silhouette Score\")\n",
    "    _ = plt.title(\"Silhouette Score After K-Means Clustering\")\n",
    "    _ = plt.xticks([i for i in range(2, max_loop)], rotation=75)\n",
    "    \n",
    "    plt.subplots_adjust(top=0.92, bottom=0.08, left=0.10, right=0.95, hspace=0.5, wspace=0.35)"
   ]
  },
  {
   "cell_type": "code",
   "execution_count": 16,
   "metadata": {},
   "outputs": [
    {
     "data": {
      "image/png": "[encoded data removed]",
      "text/plain": [
       "<Figure size 720x432 with 2 Axes>"
      ]
     },
     "metadata": {},
     "output_type": "display_data"
    }
   ],
   "source": [
    "plot_cluster(agg_df3, max_loop=25)"
   ]
  },
  {
   "cell_type": "markdown",
   "metadata": {},
   "source": [
    "From the first graph, `Within Cluster SSE After K-Means Clustering`, we can see that as the number of clusters increase pass 7, the sum of square of errors within clusters plateaus off. From the second graph, `Silhouette Score After K-Means Clustering`, we can see that there are various parts of the graph where a kink can be seen. Since there is not much a difference in SSE after 7 clusters and that the drop in sihouette score is quite significant between 14 clusters and 15 clusters, I would use 14 clusters in my K-Means model below."
   ]
  },
  {
   "cell_type": "code",
   "execution_count": 17,
   "metadata": {},
   "outputs": [],
   "source": [
    "def apply_cluster(df, clusters=2):\n",
    "    \"\"\"\n",
    "    Applying K-Means with the optimal number of clusters identified\n",
    "    \"\"\"\n",
    "    try:\n",
    "        df.drop('cluster', axis=1, inplace=True)\n",
    "    except:\n",
    "        next\n",
    "    X = df.iloc[:,1:]\n",
    "    rb = RobustScaler()\n",
    "    X_rb = rb.fit_transform(X)\n",
    "    kmeans = KMeans(n_clusters=clusters, random_state=10, n_init=10, n_jobs=-1)  \n",
    "    kmeans.fit(X_rb) \n",
    "    score = metrics.silhouette_score(X_rb, kmeans.labels_, random_state=10)\n",
    "    df['cluster'] = kmeans.labels_\n",
    "    sse_within_cluster = kmeans.inertia_\n",
    "    \n",
    "    print(\"clustering performance\")\n",
    "    print(\"-----------------------------------\")\n",
    "    print(\"silhouette score: \" + str(score.round(2)))\n",
    "    print(\"sse withing cluster: \" + str(sse_within_cluster.round()))\n",
    "    \n",
    "    return df"
   ]
  },
  {
   "cell_type": "code",
   "execution_count": 18,
   "metadata": {},
   "outputs": [
    {
     "name": "stdout",
     "output_type": "stream",
     "text": [
      "clustering performance\n",
      "-----------------------------------\n",
      "silhouette score: 0.78\n",
      "sse withing cluster: 3237.0\n"
     ]
    }
   ],
   "source": [
    "first_trial = apply_cluster(agg_df3, clusters=14)"
   ]
  },
  {
   "cell_type": "code",
   "execution_count": 19,
   "metadata": {},
   "outputs": [
    {
     "data": {
      "text/html": [
       "<div>\n",
       "<style scoped>\n",
       "    .dataframe tbody tr th:only-of-type {\n",
       "        vertical-align: middle;\n",
       "    }\n",
       "\n",
       "    .dataframe tbody tr th {\n",
       "        vertical-align: top;\n",
       "    }\n",
       "\n",
       "    .dataframe thead th {\n",
       "        text-align: right;\n",
       "    }\n",
       "</style>\n",
       "<table border=\"1\" class=\"dataframe\">\n",
       "  <thead>\n",
       "    <tr style=\"text-align: right;\">\n",
       "      <th></th>\n",
       "      <th>cluster</th>\n",
       "      <th>avg_yearly_returns</th>\n",
       "      <th>variance</th>\n",
       "      <th>ticker</th>\n",
       "    </tr>\n",
       "  </thead>\n",
       "  <tbody>\n",
       "    <tr>\n",
       "      <th>0</th>\n",
       "      <td>0</td>\n",
       "      <td>0.092419</td>\n",
       "      <td>0.110761</td>\n",
       "      <td>1193</td>\n",
       "    </tr>\n",
       "    <tr>\n",
       "      <th>1</th>\n",
       "      <td>11</td>\n",
       "      <td>0.336065</td>\n",
       "      <td>1.018290</td>\n",
       "      <td>59</td>\n",
       "    </tr>\n",
       "    <tr>\n",
       "      <th>2</th>\n",
       "      <td>8</td>\n",
       "      <td>0.593508</td>\n",
       "      <td>2.854767</td>\n",
       "      <td>19</td>\n",
       "    </tr>\n",
       "    <tr>\n",
       "      <th>3</th>\n",
       "      <td>12</td>\n",
       "      <td>0.837786</td>\n",
       "      <td>5.224438</td>\n",
       "      <td>11</td>\n",
       "    </tr>\n",
       "    <tr>\n",
       "      <th>4</th>\n",
       "      <td>6</td>\n",
       "      <td>1.067458</td>\n",
       "      <td>8.362185</td>\n",
       "      <td>5</td>\n",
       "    </tr>\n",
       "    <tr>\n",
       "      <th>5</th>\n",
       "      <td>10</td>\n",
       "      <td>1.331071</td>\n",
       "      <td>15.027225</td>\n",
       "      <td>3</td>\n",
       "    </tr>\n",
       "    <tr>\n",
       "      <th>6</th>\n",
       "      <td>4</td>\n",
       "      <td>1.836886</td>\n",
       "      <td>25.347059</td>\n",
       "      <td>3</td>\n",
       "    </tr>\n",
       "    <tr>\n",
       "      <th>7</th>\n",
       "      <td>9</td>\n",
       "      <td>2.420434</td>\n",
       "      <td>43.899749</td>\n",
       "      <td>1</td>\n",
       "    </tr>\n",
       "    <tr>\n",
       "      <th>8</th>\n",
       "      <td>13</td>\n",
       "      <td>2.602269</td>\n",
       "      <td>30.862794</td>\n",
       "      <td>1</td>\n",
       "    </tr>\n",
       "    <tr>\n",
       "      <th>9</th>\n",
       "      <td>7</td>\n",
       "      <td>3.340888</td>\n",
       "      <td>57.203435</td>\n",
       "      <td>1</td>\n",
       "    </tr>\n",
       "    <tr>\n",
       "      <th>10</th>\n",
       "      <td>3</td>\n",
       "      <td>3.562943</td>\n",
       "      <td>72.620209</td>\n",
       "      <td>1</td>\n",
       "    </tr>\n",
       "    <tr>\n",
       "      <th>11</th>\n",
       "      <td>5</td>\n",
       "      <td>3.857160</td>\n",
       "      <td>112.449844</td>\n",
       "      <td>1</td>\n",
       "    </tr>\n",
       "    <tr>\n",
       "      <th>12</th>\n",
       "      <td>2</td>\n",
       "      <td>5.259784</td>\n",
       "      <td>187.519424</td>\n",
       "      <td>1</td>\n",
       "    </tr>\n",
       "    <tr>\n",
       "      <th>13</th>\n",
       "      <td>1</td>\n",
       "      <td>9.074862</td>\n",
       "      <td>651.720274</td>\n",
       "      <td>1</td>\n",
       "    </tr>\n",
       "  </tbody>\n",
       "</table>\n",
       "</div>"
      ],
      "text/plain": [
       "    cluster  avg_yearly_returns    variance  ticker\n",
       "0         0            0.092419    0.110761    1193\n",
       "1        11            0.336065    1.018290      59\n",
       "2         8            0.593508    2.854767      19\n",
       "3        12            0.837786    5.224438      11\n",
       "4         6            1.067458    8.362185       5\n",
       "5        10            1.331071   15.027225       3\n",
       "6         4            1.836886   25.347059       3\n",
       "7         9            2.420434   43.899749       1\n",
       "8        13            2.602269   30.862794       1\n",
       "9         7            3.340888   57.203435       1\n",
       "10        3            3.562943   72.620209       1\n",
       "11        5            3.857160  112.449844       1\n",
       "12        2            5.259784  187.519424       1\n",
       "13        1            9.074862  651.720274       1"
      ]
     },
     "execution_count": 19,
     "metadata": {},
     "output_type": "execute_result"
    }
   ],
   "source": [
    "cluster_perf_df = (\n",
    "    first_trial\n",
    "    .groupby('cluster')\n",
    "    .agg({\"avg_yearly_returns\":\"mean\", \"variance\":\"mean\", \"ticker\":\"count\"})\n",
    "    .sort_values('avg_yearly_returns')\n",
    "    .reset_index()\n",
    ")\n",
    "\n",
    "cluster_perf_df"
   ]
  },
  {
   "cell_type": "markdown",
   "metadata": {},
   "source": [
    "From the dataframe above, we can see that the distribution of the stocks amongst the clusters is very skewed. Most of the stocks are aggregated in cluster `0`. For the other clusters, we can see that the `avg_yearly_returns` and `variance` are huge. A savvy investor would definitely not invest in these other clusters as the swing is too big, ranging from ~102% to 65100%. As such, he/she would most probably invest in a stock in cluster 0. As cluster 0 still contains too many stocks to choose from, I will attempt to conduct another K-Means clustering on cluster `0`."
   ]
  },
  {
   "cell_type": "code",
   "execution_count": 20,
   "metadata": {},
   "outputs": [],
   "source": [
    "# creating a dataframe that only consists of cluster `0`\n",
    "agg_df3_sub = agg_df3.query(\"cluster == 0\").reset_index(drop=True)"
   ]
  },
  {
   "cell_type": "code",
   "execution_count": 21,
   "metadata": {},
   "outputs": [
    {
     "data": {
      "image/png": "[encoded data removed]",
      "text/plain": [
       "<Figure size 720x432 with 2 Axes>"
      ]
     },
     "metadata": {},
     "output_type": "display_data"
    }
   ],
   "source": [
    "plot_cluster(agg_df3_sub, max_loop=25)"
   ]
  },
  {
   "cell_type": "markdown",
   "metadata": {},
   "source": [
    "From the second graph, `Silhouette Score After K-Means Clustering`, we can see that there was a steep drop in silhouette score between 5 clusters and 6 clusters. As such, I would use 5 clusters in my K-Means model below."
   ]
  },
  {
   "cell_type": "code",
   "execution_count": 22,
   "metadata": {},
   "outputs": [
    {
     "name": "stdout",
     "output_type": "stream",
     "text": [
      "clustering performance\n",
      "-----------------------------------\n",
      "silhouette score: 0.38\n",
      "sse withing cluster: 591.0\n"
     ]
    }
   ],
   "source": [
    "second_trial= apply_cluster(agg_df3_sub, clusters=5)"
   ]
  },
  {
   "cell_type": "code",
   "execution_count": 23,
   "metadata": {},
   "outputs": [
    {
     "data": {
      "text/html": [
       "<div>\n",
       "<style scoped>\n",
       "    .dataframe tbody tr th:only-of-type {\n",
       "        vertical-align: middle;\n",
       "    }\n",
       "\n",
       "    .dataframe tbody tr th {\n",
       "        vertical-align: top;\n",
       "    }\n",
       "\n",
       "    .dataframe thead th {\n",
       "        text-align: right;\n",
       "    }\n",
       "</style>\n",
       "<table border=\"1\" class=\"dataframe\">\n",
       "  <thead>\n",
       "    <tr style=\"text-align: right;\">\n",
       "      <th></th>\n",
       "      <th>cluster</th>\n",
       "      <th>avg_yearly_returns</th>\n",
       "      <th>variance</th>\n",
       "      <th>ticker</th>\n",
       "    </tr>\n",
       "  </thead>\n",
       "  <tbody>\n",
       "    <tr>\n",
       "      <th>0</th>\n",
       "      <td>4</td>\n",
       "      <td>-0.080652</td>\n",
       "      <td>0.113519</td>\n",
       "      <td>184</td>\n",
       "    </tr>\n",
       "    <tr>\n",
       "      <th>1</th>\n",
       "      <td>3</td>\n",
       "      <td>0.044477</td>\n",
       "      <td>0.303681</td>\n",
       "      <td>84</td>\n",
       "    </tr>\n",
       "    <tr>\n",
       "      <th>2</th>\n",
       "      <td>0</td>\n",
       "      <td>0.081021</td>\n",
       "      <td>0.053163</td>\n",
       "      <td>603</td>\n",
       "    </tr>\n",
       "    <tr>\n",
       "      <th>3</th>\n",
       "      <td>2</td>\n",
       "      <td>0.206852</td>\n",
       "      <td>0.115717</td>\n",
       "      <td>257</td>\n",
       "    </tr>\n",
       "    <tr>\n",
       "      <th>4</th>\n",
       "      <td>1</td>\n",
       "      <td>0.297600</td>\n",
       "      <td>0.368385</td>\n",
       "      <td>65</td>\n",
       "    </tr>\n",
       "  </tbody>\n",
       "</table>\n",
       "</div>"
      ],
      "text/plain": [
       "   cluster  avg_yearly_returns  variance  ticker\n",
       "0        4           -0.080652  0.113519     184\n",
       "1        3            0.044477  0.303681      84\n",
       "2        0            0.081021  0.053163     603\n",
       "3        2            0.206852  0.115717     257\n",
       "4        1            0.297600  0.368385      65"
      ]
     },
     "execution_count": 23,
     "metadata": {},
     "output_type": "execute_result"
    }
   ],
   "source": [
    "sub_cluster_perf_df = (\n",
    "    second_trial\n",
    "    .groupby('cluster')\n",
    "    .agg({\"avg_yearly_returns\":\"mean\", \"variance\":\"mean\", \"ticker\":\"count\"})\n",
    "    .sort_values('avg_yearly_returns')\n",
    "    .reset_index()\n",
    ")\n",
    "\n",
    "sub_cluster_perf_df"
   ]
  },
  {
   "cell_type": "markdown",
   "metadata": {},
   "source": [
    "From the dataframe above, we can see that cluster `0-0` and cluster `0-2` would be the 2 better clusters to invest, amongst the rest. Cluster `0-0` yields a decent return of 8.1% with a 5.3% variance, while cluster `0-2` yields a much higher return of 20.7%, with a correspondingly higher variance of 11.6%. I decided to add in Sharpe Ratio as a metric to better evaluate the cluster performance.\n",
    "\n",
    "**_Sharpe Ratio is used to help investors understand the return of an investment compared to its risk. The ratio is the average return earned in excess of the risk-free rate per unit of volatility or total risk._**\n",
    "\n",
    "Sharpe Ratio can be computed as such:\n",
    "\n",
    "**$Sharpe\\ Ratio = (R_s - R_f) /{SD_s}$**\n",
    "\n",
    "I will be using the first day of the year, 5-years daily U.S. yield rates, from https://home.treasury.gov/ as the risk-free rate."
   ]
  },
  {
   "cell_type": "code",
   "execution_count": 24,
   "metadata": {},
   "outputs": [],
   "source": [
    "# calculating the average risk free rate over the time period of 2012 - 2018 \n",
    "us_yield_curve_5years_dict = {\"year\": [2012, 2013, 2014, 2015, 2016, 2017, 2018],\n",
    "                         \"risk_free_rate\": [0.89, 0.76, 1.72, 1.61, 1.73, 1.94, 2.25]}\n",
    "us_yield_curve_5years_df = pd.DataFrame.from_dict(us_yield_curve_5years_dict)\n",
    "\n",
    "avg_risk_free_rate = (\n",
    "    us_yield_curve_5years_df\n",
    "    .mean()\n",
    "    [['risk_free_rate']]\n",
    "    [0]\n",
    ")"
   ]
  },
  {
   "cell_type": "code",
   "execution_count": 25,
   "metadata": {},
   "outputs": [],
   "source": [
    "def get_sharpe_ratio_df(df):\n",
    "    \"\"\"\n",
    "    Computing Sharpe Ratio\n",
    "    \"\"\"\n",
    "    df_w_sharpe_ratio = (\n",
    "        df\n",
    "        .pipe(lambda x: x.assign(avg_risk_free_rate=avg_risk_free_rate/100))\n",
    "        .pipe(lambda x: x.assign(std_dev=np.sqrt(x.variance)))\n",
    "        .pipe(lambda x: x.assign(sharpe_ratio=(x.avg_yearly_returns-x.avg_risk_free_rate)/x.std_dev))\n",
    "    )\n",
    "\n",
    "    return df_w_sharpe_ratio"
   ]
  },
  {
   "cell_type": "code",
   "execution_count": 26,
   "metadata": {},
   "outputs": [],
   "source": [
    "second_trial_w_sharpe_ratio = get_sharpe_ratio_df(second_trial)"
   ]
  },
  {
   "cell_type": "code",
   "execution_count": 27,
   "metadata": {},
   "outputs": [],
   "source": [
    "def get_transform_df(df_w_sharpe_ratio):\n",
    "    \"\"\"\n",
    "    Transforming dataframe so that I can plot a boxplot of `Returns`, `Variance` and `Sharpe Ratio` for each cluster\n",
    "    \"\"\"\n",
    "    df_yearly_returns = (\n",
    "        df_w_sharpe_ratio\n",
    "        [['avg_yearly_returns', 'cluster']]\n",
    "        .pipe(lambda x: x.assign(type='avg_yearly_returns'))\n",
    "        .rename(columns={\"avg_yearly_returns\": \"rate\"})\n",
    "    )\n",
    "\n",
    "    df_variance = (\n",
    "        df_w_sharpe_ratio\n",
    "        [['variance', 'cluster']]\n",
    "        .pipe(lambda x: x.assign(type='variance'))\n",
    "        .rename(columns={\"variance\": \"rate\"})\n",
    "    )\n",
    "\n",
    "    df_sharpe_ratio = (\n",
    "        df_w_sharpe_ratio\n",
    "        [['sharpe_ratio', 'cluster']]\n",
    "    )\n",
    "\n",
    "    df_transform = pd.concat([df_yearly_returns, df_variance], axis=0)\n",
    "\n",
    "    return df_transform, df_sharpe_ratio"
   ]
  },
  {
   "cell_type": "code",
   "execution_count": 28,
   "metadata": {},
   "outputs": [],
   "source": [
    "sub_cluster_transform, sub_cluster_sharpe_ratio = get_transform_df(second_trial_w_sharpe_ratio)"
   ]
  },
  {
   "cell_type": "code",
   "execution_count": 29,
   "metadata": {},
   "outputs": [],
   "source": [
    "def cluster_perf(transform_df, sharpe_ratio_df):\n",
    "    \"\"\"\n",
    "    Plotting boxplot of cluster performance\n",
    "    \"\"\"\n",
    "    _  = plt.figure(figsize=(15,7))\n",
    "\n",
    "    ax1 = plt.subplot(121)\n",
    "    _ = sns.boxplot(x='cluster', y='rate', hue='type', data=transform_df)\n",
    "    _ = plt.title(\"Distribution of Returns and Variance for each Cluster\")\n",
    "\n",
    "    ax2 = plt.subplot(122)\n",
    "    _ =sns.boxplot(x='cluster', y='sharpe_ratio', data=sharpe_ratio_df, color='royalblue')\n",
    "    _ = plt.title(\"Distribution of Sharpe Ratio for each Cluster\")"
   ]
  },
  {
   "cell_type": "code",
   "execution_count": 30,
   "metadata": {},
   "outputs": [
    {
     "data": {
      "image/png": "[encoded data removed]",
      "text/plain": [
       "<Figure size 1080x504 with 2 Axes>"
      ]
     },
     "metadata": {},
     "output_type": "display_data"
    }
   ],
   "source": [
    "cluster_perf(sub_cluster_transform, sub_cluster_sharpe_ratio)"
   ]
  },
  {
   "cell_type": "markdown",
   "metadata": {},
   "source": [
    "From the charts above, we can see that cluster `0-2` has the best Sharpe Ratio distribution amongst the rest and that its average returns (20.7%) and variance (11.6%) is still acceptable for my risk appetite. For someone who have a smaller risk appetite, he/she should be looking at cluster `0-0`, where the sharpe ratio is still fairly decent, along with moderate average returns (8.1%) and variance(5.3%)\n",
    "\n",
    "Coupled with the fact that there are still more than 200 stocks in cluster `0-2` and there are some outliers (outperforming stocks) in that cluster, I would like to take segement it even further so that I can have a smaller group of stocks to research on."
   ]
  },
  {
   "cell_type": "code",
   "execution_count": 31,
   "metadata": {},
   "outputs": [],
   "source": [
    "# filtering out for cluster 1\n",
    "best_sub_cluster = second_trial.query(\"cluster == 2\")"
   ]
  },
  {
   "cell_type": "code",
   "execution_count": 32,
   "metadata": {},
   "outputs": [
    {
     "name": "stderr",
     "output_type": "stream",
     "text": [
      "C:\\Users\\timothy.ong\\AppData\\Local\\Continuum\\anaconda3\\lib\\site-packages\\pandas\\core\\frame.py:3697: SettingWithCopyWarning: \n",
      "A value is trying to be set on a copy of a slice from a DataFrame\n",
      "\n",
      "See the caveats in the documentation: http://pandas.pydata.org/pandas-docs/stable/indexing.html#indexing-view-versus-copy\n",
      "  errors=errors)\n"
     ]
    },
    {
     "data": {
      "image/png": "[encoded data removed]",
      "text/plain": [
       "<Figure size 720x432 with 2 Axes>"
      ]
     },
     "metadata": {},
     "output_type": "display_data"
    }
   ],
   "source": [
    "plot_cluster(best_sub_cluster, max_loop=15)"
   ]
  },
  {
   "cell_type": "markdown",
   "metadata": {},
   "source": [
    "Based the above 2 graphs, I will use 6 clusters in my K-Means model below."
   ]
  },
  {
   "cell_type": "code",
   "execution_count": 33,
   "metadata": {},
   "outputs": [
    {
     "name": "stdout",
     "output_type": "stream",
     "text": [
      "clustering performance\n",
      "-----------------------------------\n",
      "silhouette score: 0.39\n",
      "sse withing cluster: 46.0\n"
     ]
    },
    {
     "name": "stderr",
     "output_type": "stream",
     "text": [
      "C:\\Users\\timothy.ong\\AppData\\Local\\Continuum\\anaconda3\\lib\\site-packages\\ipykernel_launcher.py:15: SettingWithCopyWarning: \n",
      "A value is trying to be set on a copy of a slice from a DataFrame.\n",
      "Try using .loc[row_indexer,col_indexer] = value instead\n",
      "\n",
      "See the caveats in the documentation: http://pandas.pydata.org/pandas-docs/stable/indexing.html#indexing-view-versus-copy\n",
      "  from ipykernel import kernelapp as app\n"
     ]
    }
   ],
   "source": [
    "third_trial = apply_cluster(best_sub_cluster, clusters=6)"
   ]
  },
  {
   "cell_type": "code",
   "execution_count": 34,
   "metadata": {},
   "outputs": [
    {
     "data": {
      "text/html": [
       "<div>\n",
       "<style scoped>\n",
       "    .dataframe tbody tr th:only-of-type {\n",
       "        vertical-align: middle;\n",
       "    }\n",
       "\n",
       "    .dataframe tbody tr th {\n",
       "        vertical-align: top;\n",
       "    }\n",
       "\n",
       "    .dataframe thead th {\n",
       "        text-align: right;\n",
       "    }\n",
       "</style>\n",
       "<table border=\"1\" class=\"dataframe\">\n",
       "  <thead>\n",
       "    <tr style=\"text-align: right;\">\n",
       "      <th></th>\n",
       "      <th>cluster</th>\n",
       "      <th>avg_yearly_returns</th>\n",
       "      <th>variance</th>\n",
       "      <th>ticker</th>\n",
       "    </tr>\n",
       "  </thead>\n",
       "  <tbody>\n",
       "    <tr>\n",
       "      <th>0</th>\n",
       "      <td>4</td>\n",
       "      <td>0.126753</td>\n",
       "      <td>0.154927</td>\n",
       "      <td>37</td>\n",
       "    </tr>\n",
       "    <tr>\n",
       "      <th>1</th>\n",
       "      <td>0</td>\n",
       "      <td>0.179237</td>\n",
       "      <td>0.081487</td>\n",
       "      <td>73</td>\n",
       "    </tr>\n",
       "    <tr>\n",
       "      <th>2</th>\n",
       "      <td>2</td>\n",
       "      <td>0.191212</td>\n",
       "      <td>0.191096</td>\n",
       "      <td>36</td>\n",
       "    </tr>\n",
       "    <tr>\n",
       "      <th>3</th>\n",
       "      <td>3</td>\n",
       "      <td>0.239662</td>\n",
       "      <td>0.050322</td>\n",
       "      <td>57</td>\n",
       "    </tr>\n",
       "    <tr>\n",
       "      <th>4</th>\n",
       "      <td>5</td>\n",
       "      <td>0.251038</td>\n",
       "      <td>0.152885</td>\n",
       "      <td>43</td>\n",
       "    </tr>\n",
       "    <tr>\n",
       "      <th>5</th>\n",
       "      <td>1</td>\n",
       "      <td>0.367981</td>\n",
       "      <td>0.157878</td>\n",
       "      <td>11</td>\n",
       "    </tr>\n",
       "  </tbody>\n",
       "</table>\n",
       "</div>"
      ],
      "text/plain": [
       "   cluster  avg_yearly_returns  variance  ticker\n",
       "0        4            0.126753  0.154927      37\n",
       "1        0            0.179237  0.081487      73\n",
       "2        2            0.191212  0.191096      36\n",
       "3        3            0.239662  0.050322      57\n",
       "4        5            0.251038  0.152885      43\n",
       "5        1            0.367981  0.157878      11"
      ]
     },
     "execution_count": 34,
     "metadata": {},
     "output_type": "execute_result"
    }
   ],
   "source": [
    "best_sub_cluster_perf = (    \n",
    "    third_trial\n",
    "    .groupby('cluster')\n",
    "    .agg({\"avg_yearly_returns\":\"mean\", \"variance\":\"mean\", \"ticker\":\"count\"})\n",
    "    .sort_values('avg_yearly_returns')\n",
    "    .reset_index()\n",
    ")\n",
    "best_sub_cluster_perf"
   ]
  },
  {
   "cell_type": "code",
   "execution_count": 35,
   "metadata": {},
   "outputs": [],
   "source": [
    "third_trial_w_sharpe_ratio = get_sharpe_ratio_df(third_trial)"
   ]
  },
  {
   "cell_type": "code",
   "execution_count": 36,
   "metadata": {},
   "outputs": [],
   "source": [
    "best_sub_cluster_transform, best_sub_cluster_sharpe_ratio = get_transform_df(third_trial_w_sharpe_ratio)"
   ]
  },
  {
   "cell_type": "code",
   "execution_count": 37,
   "metadata": {
    "scrolled": false
   },
   "outputs": [
    {
     "data": {
      "image/png": "[encoded data removed]",
      "text/plain": [
       "<Figure size 1080x504 with 2 Axes>"
      ]
     },
     "metadata": {},
     "output_type": "display_data"
    }
   ],
   "source": [
    "cluster_perf(best_sub_cluster_transform, best_sub_cluster_sharpe_ratio)"
   ]
  },
  {
   "cell_type": "markdown",
   "metadata": {},
   "source": [
    "We can see that cluster `0-2-3` has the best sharpe ratio distribution and a very impressive average returns of 24.0% and variance of 5.0% (over the last 7 years). This golden cluster of 57 stocks definitely captured my attention and I should focused my research on them and create a portfolio based on them."
   ]
  },
  {
   "cell_type": "code",
   "execution_count": 38,
   "metadata": {
    "scrolled": true
   },
   "outputs": [
    {
     "data": {
      "text/plain": [
       "array(['ADSK', 'ANTM', 'AZPN', 'CACC', 'CHDN', 'CHE', 'CI', 'COO', 'DENN',\n",
       "       'FDEF', 'FICO', 'FIS', 'FIX', 'HELE', 'HIFS', 'ICUI', 'IHC',\n",
       "       'INTU', 'IT', 'JKHY', 'KAI', 'KWR', 'LFUS', 'LII', 'LION', 'LOW',\n",
       "       'MCO', 'MLAB', 'MMSI', 'MOH', 'MSFT', 'MTD', 'MTN', 'NSP', 'OLBK',\n",
       "       'OMCL', 'ORLY', 'PRSC', 'RDI', 'RHT', 'RMD', 'SBAC', 'SCHW', 'SCI',\n",
       "       'SHEN', 'SHW', 'STE', 'TDY', 'TFX', 'TMO', 'TSS', 'ULTI', 'UNH',\n",
       "       'USPH', 'VLO', 'VRSN', 'ZBRA'], dtype=object)"
      ]
     },
     "execution_count": 38,
     "metadata": {},
     "output_type": "execute_result"
    }
   ],
   "source": [
    "third_trial.query(\"cluster == 3\").ticker.unique()"
   ]
  },
  {
   "cell_type": "markdown",
   "metadata": {},
   "source": [
    "# Conclusion"
   ]
  },
  {
   "cell_type": "markdown",
   "metadata": {},
   "source": [
    "In the first iteration of K-Means clustering, 14 clusters were formed. 13 of those clusters had extremely high returns and variance, stocks where no savvy investors would have purchased. As such, I have decided to conduct a second iteration on the remaining cluster, cluster `0`, that contains a majority of the stocks (1193 out of 1300 stocks). \n",
    "\n",
    "In the second iteration of K-Means clustering of the sub-cluster, 5 clusters were formed. As the performance of the clusters were fairly close, I have introduced a new metric, Sharpe Ratio, to better evaluate the performance of each cluster. From the Sharpe Ratio boxplot, it can be seen that cluster `0-2` was the better performing cluster as its Sharpe Ratio distribution was on the higher end. Since cluster `0-2` compromised of 257 stocks (still a fairly large number of stocks to study) and that there are some outliers in the Sharpe Ratio, I would like to take a more in-depth look into it, to see whether can I further narrow down to form a golden cluster.\n",
    "\n",
    "In my third iteration of K-Means clustering of the sub-sub-cluster, 6 clusters were formed. From this last iteration, we can see a clear winner. Cluster `0-2-3` has the best Sharp Ratio distribution and that it has an impressive average returns of 24.0% and a variance of 5.0%, over the last 7 years. I should focus my research on this cluster (57 stocks) and choose the best stocks to invest in, based on fundamental analysis."
   ]
  }
 ],
 "metadata": {
  "kernelspec": {
   "display_name": "Python 3",
   "language": "python",
   "name": "python3"
  },
  "language_info": {
   "codemirror_mode": {
    "name": "ipython",
    "version": 3
   },
   "file_extension": ".py",
   "mimetype": "text/x-python",
   "name": "python",
   "nbconvert_exporter": "python",
   "pygments_lexer": "ipython3",
   "version": "3.6.4"
  }
 },
 "nbformat": 4,
 "nbformat_minor": 2
}
