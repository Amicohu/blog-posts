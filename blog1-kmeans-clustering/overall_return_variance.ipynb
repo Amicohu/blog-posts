{
 "cells": [
  {
   "cell_type": "code",
   "execution_count": 1,
   "metadata": {},
   "outputs": [],
   "source": [
    "import pandas as pd\n",
    "import numpy as np\n",
    "import datetime \n",
    "from dateutil.relativedelta import relativedelta\n",
    "import matplotlib.pyplot as plt\n",
    "import seaborn as sns\n",
    "\n",
    "%matplotlib inline \n",
    "\n",
    "pd.set_option('display.max_columns', 100)"
   ]
  },
  {
   "cell_type": "code",
   "execution_count": 2,
   "metadata": {},
   "outputs": [
    {
     "name": "stderr",
     "output_type": "stream",
     "text": [
      "C:\\Users\\timothy.ong\\AppData\\Local\\Continuum\\anaconda3\\lib\\site-packages\\numpy\\lib\\arraysetops.py:522: FutureWarning: elementwise comparison failed; returning scalar instead, but in the future will perform elementwise comparison\n",
      "  mask |= (ar1 == a)\n"
     ]
    }
   ],
   "source": [
    "# raw data is taken from Stocker package which uses Quandl API\n",
    "agg_df = pd.read_csv('./agg_data2.csv', index_col=0)"
   ]
  },
  {
   "cell_type": "code",
   "execution_count": 3,
   "metadata": {},
   "outputs": [],
   "source": [
    "# narrowing data set to 2012 - 2017\n",
    "# creating new column `year`\n",
    "agg_df2 = (\n",
    "    agg_df\n",
    "    .pipe(lambda x: x.assign(year=pd.to_datetime(x.date).dt.year))\n",
    "    .query(\"year >= 2012\")\n",
    "    [['ticker', 'date', 'year', 'open', 'close']]\n",
    ")"
   ]
  },
  {
   "cell_type": "code",
   "execution_count": 4,
   "metadata": {},
   "outputs": [],
   "source": [
    "# getting the first day and last day of each year that is available in the data set\n",
    "first_date_list = [agg_df2.query(\"year == '{}'\".format(2012+i)).date.min() for i in range(6)]\n",
    "last_date_list = [agg_df2.query(\"year == '{}'\".format(2012+i)).date.max() for i in range(6)]\n",
    "first_date_df =pd.DataFrame({\"date\": first_date_list}) \n",
    "last_date_df = pd.DataFrame({\"date\": last_date_list})"
   ]
  },
  {
   "cell_type": "code",
   "execution_count": 5,
   "metadata": {},
   "outputs": [],
   "source": [
    "# filtering first day data\n",
    "agg_first_date_df = (\n",
    "    agg_df2\n",
    "    .merge(first_date_df, on='date', how='inner')\n",
    "    .pipe(lambda x: x.assign(year=x.date.str[:4]))\n",
    "    .rename(columns={\"open\": \"open_first_day\", \"close\": \"close_first_day\"})\n",
    "    .reset_index(drop=True)\n",
    "    [['ticker', 'year', 'open_first_day', 'close_first_day']]\n",
    ")\n",
    "\n",
    "# filtering last day data\n",
    "agg_last_date_df = (\n",
    "    agg_df2\n",
    "    .merge(last_date_df, on='date', how='inner')\n",
    "    .pipe(lambda x: x.assign(year=x.date.str[:4]))\n",
    "    .rename(columns={\"open\": \"open_last_day\", \"close\": \"close_last_day\"})\n",
    "    .reset_index(drop=True)\n",
    "    [['ticker', 'year', 'open_last_day', 'close_last_day']]\n",
    ")\n",
    "\n",
    "# calculating yearly return and then averaging them to get average yearly returns for each stock\n",
    "agg_gains_df = (\n",
    "    agg_first_date_df\n",
    "    .merge(agg_last_date_df, on=['ticker', 'year'], how='left')\n",
    "    .pipe(lambda x: x.assign(gains_dollar=x.close_last_day-x.open_first_day))\n",
    "    .pipe(lambda x: x.assign(gains_pctg=x.gains_dollar/x.open_first_day))\n",
    "    .groupby(\"ticker\")\n",
    "    .agg({\"gains_pctg\": \"mean\"})\n",
    "    .reset_index()\n",
    "    .rename(columns={\"gains_pctg\": \"avg_yearly_returns\"})\n",
    ")\n",
    "\n",
    "# calculating overall variance using each year's return\n",
    "agg_var_df = (\n",
    "    agg_first_date_df\n",
    "    .merge(agg_last_date_df, on=['ticker', 'year'], how='left')\n",
    "    .pipe(lambda x: x.assign(gains_dollar=x.close_last_day-x.open_first_day))\n",
    "    .pipe(lambda x: x.assign(gains_pctg=x.gains_dollar/x.open_first_day))\n",
    "    [['ticker', 'gains_pctg']]\n",
    "    .groupby(\"ticker\")\n",
    "    .agg(np.var)\n",
    "    .reset_index()\n",
    "    .rename(columns={\"gains_pctg\": \"variance\"})\n",
    ")\n",
    "\n",
    "agg_df3 = (\n",
    "    agg_gains_df\n",
    "    .merge(agg_var_df, on='ticker', how='inner')\n",
    ")"
   ]
  },
  {
   "cell_type": "code",
   "execution_count": 6,
   "metadata": {},
   "outputs": [
    {
     "data": {
      "text/html": [
       "<div>\n",
       "<style scoped>\n",
       "    .dataframe tbody tr th:only-of-type {\n",
       "        vertical-align: middle;\n",
       "    }\n",
       "\n",
       "    .dataframe tbody tr th {\n",
       "        vertical-align: top;\n",
       "    }\n",
       "\n",
       "    .dataframe thead th {\n",
       "        text-align: right;\n",
       "    }\n",
       "</style>\n",
       "<table border=\"1\" class=\"dataframe\">\n",
       "  <thead>\n",
       "    <tr style=\"text-align: right;\">\n",
       "      <th></th>\n",
       "      <th>ticker</th>\n",
       "      <th>avg_yearly_returns</th>\n",
       "      <th>variance</th>\n",
       "    </tr>\n",
       "  </thead>\n",
       "  <tbody>\n",
       "    <tr>\n",
       "      <th>0</th>\n",
       "      <td>A</td>\n",
       "      <td>0.133075</td>\n",
       "      <td>0.068609</td>\n",
       "    </tr>\n",
       "    <tr>\n",
       "      <th>1</th>\n",
       "      <td>AAN</td>\n",
       "      <td>0.084080</td>\n",
       "      <td>0.057674</td>\n",
       "    </tr>\n",
       "    <tr>\n",
       "      <th>2</th>\n",
       "      <td>AAON</td>\n",
       "      <td>0.126208</td>\n",
       "      <td>0.089675</td>\n",
       "    </tr>\n",
       "  </tbody>\n",
       "</table>\n",
       "</div>"
      ],
      "text/plain": [
       "  ticker  avg_yearly_returns  variance\n",
       "0      A            0.133075  0.068609\n",
       "1    AAN            0.084080  0.057674\n",
       "2   AAON            0.126208  0.089675"
      ]
     },
     "execution_count": 6,
     "metadata": {},
     "output_type": "execute_result"
    }
   ],
   "source": [
    "agg_df3.head(3)"
   ]
  },
  {
   "cell_type": "code",
   "execution_count": 7,
   "metadata": {},
   "outputs": [
    {
     "name": "stdout",
     "output_type": "stream",
     "text": [
      "<class 'pandas.core.frame.DataFrame'>\n",
      "Int64Index: 1651 entries, 0 to 1650\n",
      "Data columns (total 3 columns):\n",
      "ticker                1651 non-null object\n",
      "avg_yearly_returns    1651 non-null float64\n",
      "variance              1651 non-null float64\n",
      "dtypes: float64(2), object(1)\n",
      "memory usage: 51.6+ KB\n"
     ]
    }
   ],
   "source": [
    "agg_df3.info()"
   ]
  },
  {
   "cell_type": "code",
   "execution_count": 8,
   "metadata": {},
   "outputs": [],
   "source": [
    "from sklearn.preprocessing import RobustScaler, MinMaxScaler, StandardScaler\n",
    "from sklearn.cluster import KMeans\n",
    "from sklearn import metrics"
   ]
  },
  {
   "cell_type": "code",
   "execution_count": 9,
   "metadata": {},
   "outputs": [],
   "source": [
    "def plot_cluster(df, max_loop=50):\n",
    "    \"\"\"\n",
    "    Looking at the performance of various number of clusters using K-Means.\n",
    "    Performance is evaluated by within cluster SSE and silhouette score.\n",
    "    \"\"\"\n",
    "    try:\n",
    "        df.drop('cluster', axis=1, inplace=True)\n",
    "    except:\n",
    "        next\n",
    "    X = df.iloc[:,1:]\n",
    "    \n",
    "    # robust scaling is used so that the centering and scaling statistics are therefore not influenced by a few number of very large marginal outliers as they are based on percentiles\n",
    "    rb = RobustScaler()\n",
    "    X_rb = rb.fit_transform(X)\n",
    "    \n",
    "    sse_within_cluster = {}\n",
    "    silhouette_score = {}\n",
    "    \n",
    "    for k in range(2, max_loop):\n",
    "        kmeans = KMeans(n_clusters=k,  random_state=10, n_init=10, n_jobs=-1)\n",
    "        kmeans.fit(X_rb)\n",
    "        sse_within_cluster[k] = kmeans.inertia_\n",
    "        silhouette_score[k] = metrics.silhouette_score(X_rb, kmeans.labels_, random_state=10)\n",
    "\n",
    "    _ = plt.figure(figsize=(10,6))\n",
    "    ax1 = plt.subplot(211)\n",
    "    _ = plt.plot(list(sse_within_cluster.keys()), list(sse_within_cluster.values()))\n",
    "    _ = plt.xlabel(\"Number of Clusters\")\n",
    "    _ = plt.ylabel(\"SSE Within Cluster\")\n",
    "    _ = plt.title(\"Within Cluster SSE After K-Means Clustering\")\n",
    "    _ = plt.xticks([i for i in range(2, max_loop)], rotation=75)\n",
    "    \n",
    "    ax2 = plt.subplot(212)\n",
    "    _ = plt.plot(list(silhouette_score.keys()), list(silhouette_score.values()))\n",
    "    _ = plt.xlabel(\"Number of Clusters\")\n",
    "    _ = plt.ylabel(\"Silhouette Score\")\n",
    "    _ = plt.title(\"Silhouette Score After K-Means Clustering\")\n",
    "    _ = plt.xticks([i for i in range(2, max_loop)], rotation=75)\n",
    "    \n",
    "    plt.subplots_adjust(top=0.92, bottom=0.08, left=0.10, right=0.95, hspace=0.5, wspace=0.35)"
   ]
  },
  {
   "cell_type": "code",
   "execution_count": 10,
   "metadata": {},
   "outputs": [
    {
     "data": {
      "image/png": "[encoded data removed]",
      "text/plain": [
       "<Figure size 720x432 with 2 Axes>"
      ]
     },
     "metadata": {},
     "output_type": "display_data"
    }
   ],
   "source": [
    "plot_cluster(agg_df3, max_loop=25)"
   ]
  },
  {
   "cell_type": "markdown",
   "metadata": {},
   "source": [
    "1. From the first graph, `Within Cluster SSE After K-Means Clustering`, we can see that as the number of clusters increase pass 4, the sum of square of errors within clusters plateaus off. \n",
    "\n",
    "2. As for the second graph, `Silhouette Score After K-Means Clustering`, we can see that there are various parts of the graph where a kink can be seen. "
   ]
  },
  {
   "cell_type": "code",
   "execution_count": 115,
   "metadata": {},
   "outputs": [],
   "source": [
    "def apply_cluster(df, clusters=2):\n",
    "    \"\"\"\n",
    "    Applying K-Means with the optimal number of clusters identified\n",
    "    \"\"\"\n",
    "    try:\n",
    "        df.drop('cluster', axis=1, inplace=True)\n",
    "    except:\n",
    "        next\n",
    "    X = df.iloc[:,1:]\n",
    "    rb = RobustScaler()\n",
    "    X_rb = rb.fit_transform(X)\n",
    "    kmeans = KMeans(n_clusters=clusters, random_state=10, n_init=10, n_jobs=-1)  \n",
    "    kmeans.fit(X_rb) \n",
    "    score = metrics.silhouette_score(X_rb, kmeans.labels_, random_state=10)\n",
    "    df['cluster'] = kmeans.labels_\n",
    "    sse_within_cluster = kmeans.inertia_\n",
    "    \n",
    "    print(\"clustering performance\")\n",
    "    print(\"-----------------------------------\")\n",
    "    print(\"silhouette score: \" + str(score.round(2)))\n",
    "    print(\"sse withing cluster: \" + str(sse_within_cluster.round()))\n",
    "    \n",
    "    return df"
   ]
  },
  {
   "cell_type": "code",
   "execution_count": 116,
   "metadata": {},
   "outputs": [
    {
     "name": "stdout",
     "output_type": "stream",
     "text": [
      "clustering performance\n",
      "-----------------------------------\n",
      "silhouette score: 0.79\n",
      "sse withing cluster: 4925.0\n"
     ]
    }
   ],
   "source": [
    "first_trial = apply_cluster(agg_df3, clusters=17)"
   ]
  },
  {
   "cell_type": "code",
   "execution_count": 14,
   "metadata": {},
   "outputs": [
    {
     "data": {
      "text/html": [
       "<div>\n",
       "<style scoped>\n",
       "    .dataframe tbody tr th:only-of-type {\n",
       "        vertical-align: middle;\n",
       "    }\n",
       "\n",
       "    .dataframe tbody tr th {\n",
       "        vertical-align: top;\n",
       "    }\n",
       "\n",
       "    .dataframe thead th {\n",
       "        text-align: right;\n",
       "    }\n",
       "</style>\n",
       "<table border=\"1\" class=\"dataframe\">\n",
       "  <thead>\n",
       "    <tr style=\"text-align: right;\">\n",
       "      <th></th>\n",
       "      <th>cluster</th>\n",
       "      <th>avg_yearly_returns</th>\n",
       "      <th>variance</th>\n",
       "      <th>ticker</th>\n",
       "    </tr>\n",
       "  </thead>\n",
       "  <tbody>\n",
       "    <tr>\n",
       "      <th>0</th>\n",
       "      <td>0</td>\n",
       "      <td>0.128180</td>\n",
       "      <td>0.105072</td>\n",
       "      <td>1506</td>\n",
       "    </tr>\n",
       "    <tr>\n",
       "      <th>1</th>\n",
       "      <td>15</td>\n",
       "      <td>0.399462</td>\n",
       "      <td>1.055879</td>\n",
       "      <td>80</td>\n",
       "    </tr>\n",
       "    <tr>\n",
       "      <th>2</th>\n",
       "      <td>10</td>\n",
       "      <td>0.665059</td>\n",
       "      <td>3.106788</td>\n",
       "      <td>28</td>\n",
       "    </tr>\n",
       "    <tr>\n",
       "      <th>3</th>\n",
       "      <td>14</td>\n",
       "      <td>1.003335</td>\n",
       "      <td>5.965267</td>\n",
       "      <td>15</td>\n",
       "    </tr>\n",
       "    <tr>\n",
       "      <th>4</th>\n",
       "      <td>6</td>\n",
       "      <td>1.212379</td>\n",
       "      <td>9.210504</td>\n",
       "      <td>6</td>\n",
       "    </tr>\n",
       "    <tr>\n",
       "      <th>5</th>\n",
       "      <td>8</td>\n",
       "      <td>1.638056</td>\n",
       "      <td>17.217217</td>\n",
       "      <td>3</td>\n",
       "    </tr>\n",
       "    <tr>\n",
       "      <th>6</th>\n",
       "      <td>16</td>\n",
       "      <td>1.811096</td>\n",
       "      <td>22.714211</td>\n",
       "      <td>1</td>\n",
       "    </tr>\n",
       "    <tr>\n",
       "      <th>7</th>\n",
       "      <td>13</td>\n",
       "      <td>2.150359</td>\n",
       "      <td>29.579875</td>\n",
       "      <td>3</td>\n",
       "    </tr>\n",
       "    <tr>\n",
       "      <th>8</th>\n",
       "      <td>11</td>\n",
       "      <td>2.248405</td>\n",
       "      <td>40.914102</td>\n",
       "      <td>1</td>\n",
       "    </tr>\n",
       "    <tr>\n",
       "      <th>9</th>\n",
       "      <td>12</td>\n",
       "      <td>2.853394</td>\n",
       "      <td>51.105084</td>\n",
       "      <td>1</td>\n",
       "    </tr>\n",
       "    <tr>\n",
       "      <th>10</th>\n",
       "      <td>3</td>\n",
       "      <td>3.090436</td>\n",
       "      <td>35.033572</td>\n",
       "      <td>1</td>\n",
       "    </tr>\n",
       "    <tr>\n",
       "      <th>11</th>\n",
       "      <td>9</td>\n",
       "      <td>3.846878</td>\n",
       "      <td>66.493500</td>\n",
       "      <td>1</td>\n",
       "    </tr>\n",
       "    <tr>\n",
       "      <th>12</th>\n",
       "      <td>4</td>\n",
       "      <td>4.134567</td>\n",
       "      <td>84.399514</td>\n",
       "      <td>1</td>\n",
       "    </tr>\n",
       "    <tr>\n",
       "      <th>13</th>\n",
       "      <td>5</td>\n",
       "      <td>4.593472</td>\n",
       "      <td>130.385703</td>\n",
       "      <td>1</td>\n",
       "    </tr>\n",
       "    <tr>\n",
       "      <th>14</th>\n",
       "      <td>2</td>\n",
       "      <td>5.828209</td>\n",
       "      <td>180.088451</td>\n",
       "      <td>1</td>\n",
       "    </tr>\n",
       "    <tr>\n",
       "      <th>15</th>\n",
       "      <td>7</td>\n",
       "      <td>6.185437</td>\n",
       "      <td>217.825908</td>\n",
       "      <td>1</td>\n",
       "    </tr>\n",
       "    <tr>\n",
       "      <th>16</th>\n",
       "      <td>1</td>\n",
       "      <td>10.729512</td>\n",
       "      <td>759.066239</td>\n",
       "      <td>1</td>\n",
       "    </tr>\n",
       "  </tbody>\n",
       "</table>\n",
       "</div>"
      ],
      "text/plain": [
       "    cluster  avg_yearly_returns    variance  ticker\n",
       "0         0            0.128180    0.105072    1506\n",
       "1        15            0.399462    1.055879      80\n",
       "2        10            0.665059    3.106788      28\n",
       "3        14            1.003335    5.965267      15\n",
       "4         6            1.212379    9.210504       6\n",
       "5         8            1.638056   17.217217       3\n",
       "6        16            1.811096   22.714211       1\n",
       "7        13            2.150359   29.579875       3\n",
       "8        11            2.248405   40.914102       1\n",
       "9        12            2.853394   51.105084       1\n",
       "10        3            3.090436   35.033572       1\n",
       "11        9            3.846878   66.493500       1\n",
       "12        4            4.134567   84.399514       1\n",
       "13        5            4.593472  130.385703       1\n",
       "14        2            5.828209  180.088451       1\n",
       "15        7            6.185437  217.825908       1\n",
       "16        1           10.729512  759.066239       1"
      ]
     },
     "execution_count": 14,
     "metadata": {},
     "output_type": "execute_result"
    }
   ],
   "source": [
    "cluster_perf_df = (\n",
    "    first_trial\n",
    "    .groupby('cluster')\n",
    "    .agg({\"avg_yearly_returns\":\"mean\", \"variance\":\"mean\", \"ticker\":\"count\"})\n",
    "    .sort_values('avg_yearly_returns')\n",
    "    .reset_index()\n",
    ")\n",
    "\n",
    "cluster_perf_df"
   ]
  },
  {
   "cell_type": "markdown",
   "metadata": {},
   "source": [
    "From "
   ]
  },
  {
   "cell_type": "code",
   "execution_count": 15,
   "metadata": {},
   "outputs": [],
   "source": [
    "agg_df3_sub = agg_df3.query(\"cluster == 0\").reset_index(drop=True)"
   ]
  },
  {
   "cell_type": "code",
   "execution_count": 16,
   "metadata": {},
   "outputs": [
    {
     "data": {
      "image/png": "[encoded data removed]",
      "text/plain": [
       "<Figure size 720x432 with 2 Axes>"
      ]
     },
     "metadata": {},
     "output_type": "display_data"
    }
   ],
   "source": [
    "plot_cluster(agg_df3_sub, max_loop=25)"
   ]
  },
  {
   "cell_type": "code",
   "execution_count": 117,
   "metadata": {},
   "outputs": [
    {
     "name": "stdout",
     "output_type": "stream",
     "text": [
      "clustering performance\n",
      "-----------------------------------\n",
      "silhouette score: 0.38\n",
      "sse withing cluster: 630.0\n"
     ]
    }
   ],
   "source": [
    "second_trial= apply_cluster(agg_df3_sub, clusters=6)"
   ]
  },
  {
   "cell_type": "code",
   "execution_count": 19,
   "metadata": {},
   "outputs": [
    {
     "data": {
      "text/html": [
       "<div>\n",
       "<style scoped>\n",
       "    .dataframe tbody tr th:only-of-type {\n",
       "        vertical-align: middle;\n",
       "    }\n",
       "\n",
       "    .dataframe tbody tr th {\n",
       "        vertical-align: top;\n",
       "    }\n",
       "\n",
       "    .dataframe thead th {\n",
       "        text-align: right;\n",
       "    }\n",
       "</style>\n",
       "<table border=\"1\" class=\"dataframe\">\n",
       "  <thead>\n",
       "    <tr style=\"text-align: right;\">\n",
       "      <th></th>\n",
       "      <th>cluster</th>\n",
       "      <th>avg_yearly_returns</th>\n",
       "      <th>variance</th>\n",
       "      <th>ticker</th>\n",
       "    </tr>\n",
       "  </thead>\n",
       "  <tbody>\n",
       "    <tr>\n",
       "      <th>0</th>\n",
       "      <td>0</td>\n",
       "      <td>-0.070141</td>\n",
       "      <td>0.095642</td>\n",
       "      <td>184</td>\n",
       "    </tr>\n",
       "    <tr>\n",
       "      <th>1</th>\n",
       "      <td>3</td>\n",
       "      <td>0.074051</td>\n",
       "      <td>0.364641</td>\n",
       "      <td>87</td>\n",
       "    </tr>\n",
       "    <tr>\n",
       "      <th>2</th>\n",
       "      <td>4</td>\n",
       "      <td>0.101346</td>\n",
       "      <td>0.043300</td>\n",
       "      <td>638</td>\n",
       "    </tr>\n",
       "    <tr>\n",
       "      <th>3</th>\n",
       "      <td>5</td>\n",
       "      <td>0.123799</td>\n",
       "      <td>0.168898</td>\n",
       "      <td>190</td>\n",
       "    </tr>\n",
       "    <tr>\n",
       "      <th>4</th>\n",
       "      <td>2</td>\n",
       "      <td>0.246546</td>\n",
       "      <td>0.076607</td>\n",
       "      <td>331</td>\n",
       "    </tr>\n",
       "    <tr>\n",
       "      <th>5</th>\n",
       "      <td>1</td>\n",
       "      <td>0.391000</td>\n",
       "      <td>0.313726</td>\n",
       "      <td>76</td>\n",
       "    </tr>\n",
       "  </tbody>\n",
       "</table>\n",
       "</div>"
      ],
      "text/plain": [
       "   cluster  avg_yearly_returns  variance  ticker\n",
       "0        0           -0.070141  0.095642     184\n",
       "1        3            0.074051  0.364641      87\n",
       "2        4            0.101346  0.043300     638\n",
       "3        5            0.123799  0.168898     190\n",
       "4        2            0.246546  0.076607     331\n",
       "5        1            0.391000  0.313726      76"
      ]
     },
     "execution_count": 19,
     "metadata": {},
     "output_type": "execute_result"
    }
   ],
   "source": [
    "sub_cluster_perf_df = (\n",
    "    second_trial\n",
    "    .groupby('cluster')\n",
    "    .agg({\"avg_yearly_returns\":\"mean\", \"variance\":\"mean\", \"ticker\":\"count\"})\n",
    "    .sort_values('avg_yearly_returns')\n",
    "    .reset_index()\n",
    ")\n",
    "\n",
    "sub_cluster_perf_df"
   ]
  },
  {
   "cell_type": "code",
   "execution_count": 71,
   "metadata": {},
   "outputs": [
    {
     "data": {
      "text/html": [
       "<div>\n",
       "<style scoped>\n",
       "    .dataframe tbody tr th:only-of-type {\n",
       "        vertical-align: middle;\n",
       "    }\n",
       "\n",
       "    .dataframe tbody tr th {\n",
       "        vertical-align: top;\n",
       "    }\n",
       "\n",
       "    .dataframe thead th {\n",
       "        text-align: right;\n",
       "    }\n",
       "</style>\n",
       "<table border=\"1\" class=\"dataframe\">\n",
       "  <thead>\n",
       "    <tr style=\"text-align: right;\">\n",
       "      <th></th>\n",
       "      <th>ticker</th>\n",
       "      <th>avg_yearly_returns</th>\n",
       "      <th>variance</th>\n",
       "      <th>cluster</th>\n",
       "    </tr>\n",
       "  </thead>\n",
       "  <tbody>\n",
       "    <tr>\n",
       "      <th>0</th>\n",
       "      <td>A</td>\n",
       "      <td>0.133075</td>\n",
       "      <td>0.068609</td>\n",
       "      <td>4</td>\n",
       "    </tr>\n",
       "    <tr>\n",
       "      <th>1</th>\n",
       "      <td>AAN</td>\n",
       "      <td>0.084080</td>\n",
       "      <td>0.057674</td>\n",
       "      <td>4</td>\n",
       "    </tr>\n",
       "    <tr>\n",
       "      <th>2</th>\n",
       "      <td>AAON</td>\n",
       "      <td>0.126208</td>\n",
       "      <td>0.089675</td>\n",
       "      <td>4</td>\n",
       "    </tr>\n",
       "  </tbody>\n",
       "</table>\n",
       "</div>"
      ],
      "text/plain": [
       "  ticker  avg_yearly_returns  variance  cluster\n",
       "0      A            0.133075  0.068609        4\n",
       "1    AAN            0.084080  0.057674        4\n",
       "2   AAON            0.126208  0.089675        4"
      ]
     },
     "execution_count": 71,
     "metadata": {},
     "output_type": "execute_result"
    }
   ],
   "source": [
    "second_trial.head(3)"
   ]
  },
  {
   "cell_type": "code",
   "execution_count": 118,
   "metadata": {},
   "outputs": [],
   "source": [
    "def get_sharpe_ratio_df(df):\n",
    "    df_w_sharpe_ratio = (\n",
    "        df\n",
    "        .pipe(lambda x: x.assign(avg_risk_free_rate=avg_risk_free_rate/100))\n",
    "        .pipe(lambda x: x.assign(std_dev=np.sqrt(x.variance)))\n",
    "        .pipe(lambda x: x.assign(sharpe_ratio=(x.avg_yearly_returns-x.avg_risk_free_rate)/x.std_dev))\n",
    "    )\n",
    "\n",
    "    return df_w_sharpe_ratio"
   ]
  },
  {
   "cell_type": "code",
   "execution_count": 119,
   "metadata": {},
   "outputs": [],
   "source": [
    "second_trial_w_sharpe_ratio = get_sharpe_ratio_df(second_trial)"
   ]
  },
  {
   "cell_type": "code",
   "execution_count": 124,
   "metadata": {},
   "outputs": [],
   "source": [
    "def get_transform_df(df_w_sharpe_ratio):\n",
    "    df_yearly_returns = (\n",
    "        df_w_sharpe_ratio\n",
    "        [['avg_yearly_returns', 'cluster']]\n",
    "        .pipe(lambda x: x.assign(type='avg_yearly_returns'))\n",
    "        .rename(columns={\"avg_yearly_returns\": \"rate\"})\n",
    "    )\n",
    "\n",
    "    df_variance = (\n",
    "        df_w_sharpe_ratio\n",
    "        [['variance', 'cluster']]\n",
    "        .pipe(lambda x: x.assign(type='variance'))\n",
    "        .rename(columns={\"variance\": \"rate\"})\n",
    "    )\n",
    "\n",
    "    df_sharpe_ratio = (\n",
    "        df_w_sharpe_ratio\n",
    "        [['sharpe_ratio', 'cluster']]\n",
    "    )\n",
    "\n",
    "    df_transform = pd.concat([df_yearly_returns, df_variance], axis=0)\n",
    "\n",
    "    return df_transform, df_sharpe_ratio"
   ]
  },
  {
   "cell_type": "code",
   "execution_count": 111,
   "metadata": {},
   "outputs": [],
   "source": [
    "sub_cluster_transform, sub_cluster_sharpe_ratio = get_transform_df(second_trial_w_sharpe_ratio)"
   ]
  },
  {
   "cell_type": "code",
   "execution_count": 130,
   "metadata": {},
   "outputs": [],
   "source": [
    "def cluster_perf(transform_df, sharpe_ratio_df):\n",
    "    _  = plt.figure(figsize=(15,7))\n",
    "\n",
    "    ax1 = plt.subplot(121)\n",
    "    _ = sns.boxplot(x='cluster', y='rate', hue='type', data=transform_df)\n",
    "    _ = plt.title(\"Distribution of Returns and Variance for each Cluster\")\n",
    "\n",
    "    ax2 = plt.subplot(122)\n",
    "    _ =sns.boxplot(x='cluster', y='sharpe_ratio', data=sharpe_ratio_df, color='royalblue')\n",
    "    _ = plt.title(\"Distribution of Sharpe Ratio for each Cluster\")"
   ]
  },
  {
   "cell_type": "code",
   "execution_count": 131,
   "metadata": {},
   "outputs": [
    {
     "data": {
      "image/png": "[encoded data removed]",
      "text/plain": [
       "<Figure size 1080x504 with 2 Axes>"
      ]
     },
     "metadata": {},
     "output_type": "display_data"
    }
   ],
   "source": [
    "cluster_perf(sub_cluster_transform, sub_cluster_sharpe_ratio)"
   ]
  },
  {
   "cell_type": "code",
   "execution_count": 114,
   "metadata": {},
   "outputs": [],
   "source": [
    "best_sub_cluster = second_trial.query(\"cluster == 2\")"
   ]
  },
  {
   "cell_type": "code",
   "execution_count": 43,
   "metadata": {},
   "outputs": [
    {
     "name": "stderr",
     "output_type": "stream",
     "text": [
      "C:\\Users\\timothy.ong\\AppData\\Local\\Continuum\\anaconda3\\lib\\site-packages\\pandas\\core\\frame.py:3697: SettingWithCopyWarning: \n",
      "A value is trying to be set on a copy of a slice from a DataFrame\n",
      "\n",
      "See the caveats in the documentation: http://pandas.pydata.org/pandas-docs/stable/indexing.html#indexing-view-versus-copy\n",
      "  errors=errors)\n"
     ]
    },
    {
     "data": {
      "image/png": "[encoded data removed]",
      "text/plain": [
       "<Figure size 720x432 with 2 Axes>"
      ]
     },
     "metadata": {},
     "output_type": "display_data"
    }
   ],
   "source": [
    "plot_cluster(best_sub_cluster, max_loop=15)"
   ]
  },
  {
   "cell_type": "code",
   "execution_count": 120,
   "metadata": {},
   "outputs": [
    {
     "name": "stderr",
     "output_type": "stream",
     "text": [
      "C:\\Users\\timothy.ong\\AppData\\Local\\Continuum\\anaconda3\\lib\\site-packages\\pandas\\core\\frame.py:3697: SettingWithCopyWarning: \n",
      "A value is trying to be set on a copy of a slice from a DataFrame\n",
      "\n",
      "See the caveats in the documentation: http://pandas.pydata.org/pandas-docs/stable/indexing.html#indexing-view-versus-copy\n",
      "  errors=errors)\n"
     ]
    },
    {
     "name": "stdout",
     "output_type": "stream",
     "text": [
      "clustering performance\n",
      "-----------------------------------\n",
      "silhouette score: 0.39\n",
      "sse withing cluster: 74.0\n"
     ]
    },
    {
     "name": "stderr",
     "output_type": "stream",
     "text": [
      "C:\\Users\\timothy.ong\\AppData\\Local\\Continuum\\anaconda3\\lib\\site-packages\\ipykernel_launcher.py:15: SettingWithCopyWarning: \n",
      "A value is trying to be set on a copy of a slice from a DataFrame.\n",
      "Try using .loc[row_indexer,col_indexer] = value instead\n",
      "\n",
      "See the caveats in the documentation: http://pandas.pydata.org/pandas-docs/stable/indexing.html#indexing-view-versus-copy\n",
      "  from ipykernel import kernelapp as app\n"
     ]
    }
   ],
   "source": [
    "third_trial = apply_cluster(best_sub_cluster, clusters=4)"
   ]
  },
  {
   "cell_type": "code",
   "execution_count": 67,
   "metadata": {},
   "outputs": [
    {
     "data": {
      "text/html": [
       "<div>\n",
       "<style scoped>\n",
       "    .dataframe tbody tr th:only-of-type {\n",
       "        vertical-align: middle;\n",
       "    }\n",
       "\n",
       "    .dataframe tbody tr th {\n",
       "        vertical-align: top;\n",
       "    }\n",
       "\n",
       "    .dataframe thead th {\n",
       "        text-align: right;\n",
       "    }\n",
       "</style>\n",
       "<table border=\"1\" class=\"dataframe\">\n",
       "  <thead>\n",
       "    <tr style=\"text-align: right;\">\n",
       "      <th></th>\n",
       "      <th>cluster</th>\n",
       "      <th>avg_yearly_returns</th>\n",
       "      <th>variance</th>\n",
       "      <th>ticker</th>\n",
       "    </tr>\n",
       "  </thead>\n",
       "  <tbody>\n",
       "    <tr>\n",
       "      <th>0</th>\n",
       "      <td>3</td>\n",
       "      <td>0.199555</td>\n",
       "      <td>0.085915</td>\n",
       "      <td>102</td>\n",
       "    </tr>\n",
       "    <tr>\n",
       "      <th>1</th>\n",
       "      <td>0</td>\n",
       "      <td>0.227018</td>\n",
       "      <td>0.034496</td>\n",
       "      <td>111</td>\n",
       "    </tr>\n",
       "    <tr>\n",
       "      <th>2</th>\n",
       "      <td>1</td>\n",
       "      <td>0.303590</td>\n",
       "      <td>0.137955</td>\n",
       "      <td>71</td>\n",
       "    </tr>\n",
       "    <tr>\n",
       "      <th>3</th>\n",
       "      <td>2</td>\n",
       "      <td>0.308470</td>\n",
       "      <td>0.063184</td>\n",
       "      <td>47</td>\n",
       "    </tr>\n",
       "  </tbody>\n",
       "</table>\n",
       "</div>"
      ],
      "text/plain": [
       "   cluster  avg_yearly_returns  variance  ticker\n",
       "0        3            0.199555  0.085915     102\n",
       "1        0            0.227018  0.034496     111\n",
       "2        1            0.303590  0.137955      71\n",
       "3        2            0.308470  0.063184      47"
      ]
     },
     "execution_count": 67,
     "metadata": {},
     "output_type": "execute_result"
    }
   ],
   "source": [
    "best_sub_cluster_perf = (    \n",
    "    third_trial\n",
    "    .groupby('cluster')\n",
    "    .agg({\"avg_yearly_returns\":\"mean\", \"variance\":\"mean\", \"ticker\":\"count\"})\n",
    "    .sort_values('avg_yearly_returns')\n",
    "    .reset_index()\n",
    ")\n",
    "best_sub_cluster_perf"
   ]
  },
  {
   "cell_type": "code",
   "execution_count": 121,
   "metadata": {},
   "outputs": [],
   "source": [
    "third_trial_w_sharpe_ratio = get_sharpe_ratio_df(third_trial)"
   ]
  },
  {
   "cell_type": "code",
   "execution_count": 126,
   "metadata": {},
   "outputs": [],
   "source": [
    "best_sub_cluster_transform, best_sub_cluster_sharpe_ratio = get_transform_df(third_trial_w_sharpe_ratio)"
   ]
  },
  {
   "cell_type": "code",
   "execution_count": 132,
   "metadata": {},
   "outputs": [
    {
     "data": {
      "image/png": "[encoded data removed]",
      "text/plain": [
       "<Figure size 1080x504 with 2 Axes>"
      ]
     },
     "metadata": {},
     "output_type": "display_data"
    }
   ],
   "source": [
    "cluster_perf(best_sub_cluster_transform, best_sub_cluster_sharpe_ratio)"
   ]
  },
  {
   "cell_type": "code",
   "execution_count": 46,
   "metadata": {},
   "outputs": [],
   "source": [
    "us_yield_curve_5years_dict = {\"year\": [2012, 2013, 2014, 2015, 2016, 2017],\n",
    "                         \"risk_free_rate\": [0.89, 0.76, 1.72, 1.61, 1.73, 1.94]}\n",
    "us_yield_curve_5years_df = pd.DataFrame.from_dict(us_yield_curve_5years_dict)"
   ]
  },
  {
   "cell_type": "code",
   "execution_count": 76,
   "metadata": {},
   "outputs": [],
   "source": [
    "avg_risk_free_rate = (\n",
    "    us_yield_curve_5years_df\n",
    "    .mean()\n",
    "    [['risk_free_rate']]\n",
    "    [0]\n",
    ")"
   ]
  }
 ],
 "metadata": {
  "kernelspec": {
   "display_name": "Python 3",
   "language": "python",
   "name": "python3"
  },
  "language_info": {
   "codemirror_mode": {
    "name": "ipython",
    "version": 3
   },
   "file_extension": ".py",
   "mimetype": "text/x-python",
   "name": "python",
   "nbconvert_exporter": "python",
   "pygments_lexer": "ipython3",
   "version": "3.6.4"
  }
 },
 "nbformat": 4,
 "nbformat_minor": 2
}
